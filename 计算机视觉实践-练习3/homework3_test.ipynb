{
 "cells": [
  {
   "cell_type": "code",
   "execution_count": 13,
   "id": "aa996fc0",
   "metadata": {},
   "outputs": [
    {
     "name": "stdout",
     "output_type": "stream",
     "text": [
      "用时  27.867 秒\n"
     ]
    }
   ],
   "source": [
    "from utils import *\n",
    "from torch import nn\n",
    "from models import SRResNet\n",
    "import time\n",
    "from PIL import Image\n",
    "from PIL import ImageFilter\n",
    " \n",
    "# 测试图像\n",
    "imgPath = 'data/test_data/img_001_SRF_2_LR.png'\n",
    " \n",
    "# 模型参数\n",
    "large_kernel_size = 9   # 第一层卷积和最后一层卷积的核大小\n",
    "small_kernel_size = 3   # 中间层卷积的核大小\n",
    "n_channels = 64         # 中间层通道数\n",
    "n_blocks = 16           # 残差模块数量\n",
    "scaling_factor = 8      # 放大比例\n",
    "device = torch.device(\"cuda:1\" if torch.cuda.is_available() else \"cpu\")\n",
    "#device = torch.device(\"cpu\")\n",
    " \n",
    "if __name__ == '__main__':\n",
    " \n",
    "    # 预训练模型\n",
    "    srresnet_checkpoint = \"results/model/checkpoint_srresnet_face_8.pth\"\n",
    " \n",
    "    # 加载模型SRResNet 或 SRGAN\n",
    "    checkpoint = torch.load(srresnet_checkpoint,map_location=torch.device('cpu'))  # 当用gpu=“1”训练并用“1”推理时，需要将map_location删掉\n",
    "    srresnet = SRResNet(large_kernel_size=large_kernel_size,\n",
    "                        small_kernel_size=small_kernel_size,\n",
    "                        n_channels=n_channels,\n",
    "                        n_blocks=n_blocks,\n",
    "                        scaling_factor=scaling_factor)\n",
    "    srresnet = srresnet.to(device)\n",
    "    srresnet.load_state_dict(checkpoint['model'])\n",
    "   \n",
    "    srresnet.eval()\n",
    "    model = srresnet\n",
    " \n",
    "    # 加载图像\n",
    "    img = Image.open(imgPath, mode='r')\n",
    "    img = img.convert('RGB')\n",
    " \n",
    "    # 双线性上采样    \n",
    "    Bicubic_img = img.resize((int(img.width * scaling_factor),int(img.height * scaling_factor)),Image.BICUBIC)\n",
    "    Bicubic_img.save('results/result_save/Bicubic_8.png')\n",
    " \n",
    "    # 图像预处理\n",
    "    lr_img = convert_image(img, source='pil', target='imagenet-norm')\n",
    "    lr_img.unsqueeze_(0)\n",
    " \n",
    "    # 记录时间\n",
    "    start = time.time()\n",
    " \n",
    "    # 转移数据至设备\n",
    "    lr_img = lr_img.to(device)  # (1, 3, w, h ), imagenet-normed\n",
    " \n",
    "    # 模型推理\n",
    "    with torch.no_grad():\n",
    "        sr_img = model(lr_img).squeeze(0).cpu().detach()  # (1, 3, w*scale, h*scale), in [-1, 1]   \n",
    "        sr_img = convert_image(sr_img, source='[-1, 1]', target='pil')\n",
    "        sr_img.save('results/result_save/SRResNet_8.png')\n",
    "    print('用时  {:.3f} 秒'.format(time.time()-start))\n",
    "    \n",
    "    "
   ]
  },
  {
   "cell_type": "code",
   "execution_count": null,
   "id": "6f55ebd6",
   "metadata": {},
   "outputs": [],
   "source": []
  }
 ],
 "metadata": {
  "kernelspec": {
   "display_name": "Python [conda env:img2] *",
   "language": "python",
   "name": "conda-env-img2-py"
  },
  "language_info": {
   "codemirror_mode": {
    "name": "ipython",
    "version": 3
   },
   "file_extension": ".py",
   "mimetype": "text/x-python",
   "name": "python",
   "nbconvert_exporter": "python",
   "pygments_lexer": "ipython3",
   "version": "3.8.19"
  }
 },
 "nbformat": 4,
 "nbformat_minor": 5
}
