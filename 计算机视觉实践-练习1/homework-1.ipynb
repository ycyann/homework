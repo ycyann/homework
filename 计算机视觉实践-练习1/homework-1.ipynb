{
 "cells": [
  {
   "cell_type": "code",
   "execution_count": 1,
   "id": "fecd6bf0",
   "metadata": {},
   "outputs": [
    {
     "ename": "ImportError",
     "evalue": "DLL load failed while importing cv2: 找不到指定的模块。",
     "output_type": "error",
     "traceback": [
      "\u001b[1;31m---------------------------------------------------------------------------\u001b[0m",
      "\u001b[1;31mImportError\u001b[0m                               Traceback (most recent call last)",
      "Cell \u001b[1;32mIn[1], line 1\u001b[0m\n\u001b[1;32m----> 1\u001b[0m \u001b[38;5;28;01mimport\u001b[39;00m \u001b[38;5;21;01mcv2\u001b[39;00m\n",
      "\u001b[1;31mImportError\u001b[0m: DLL load failed while importing cv2: 找不到指定的模块。"
     ]
    }
   ],
   "source": [
    "import cv2"
   ]
  },
  {
   "cell_type": "code",
   "execution_count": 2,
   "id": "ba649870",
   "metadata": {},
   "outputs": [
    {
     "name": "stdout",
     "output_type": "stream",
     "text": [
      "Requirement already satisfied: opencv-python in c:\\users\\15005\\anaconda3\\envs\\img2\\lib\\site-packages (4.9.0.80)\n",
      "Requirement already satisfied: numpy>=1.17.0 in c:\\users\\15005\\anaconda3\\envs\\img2\\lib\\site-packages (from opencv-python) (1.24.3)\n",
      "Note: you may need to restart the kernel to use updated packages.\n"
     ]
    }
   ],
   "source": [
    "pip install opencv-python\n"
   ]
  },
  {
   "cell_type": "code",
   "execution_count": 3,
   "id": "66698569",
   "metadata": {},
   "outputs": [],
   "source": [
    "import cv2"
   ]
  },
  {
   "cell_type": "code",
   "execution_count": 1,
   "id": "48d7cb35",
   "metadata": {},
   "outputs": [],
   "source": [
    "\n"
   ]
  },
  {
   "cell_type": "code",
   "execution_count": 21,
   "id": "ff609cf7",
   "metadata": {},
   "outputs": [
    {
     "name": "stdout",
     "output_type": "stream",
     "text": [
      "共耗时13.883115768432617\n"
     ]
    }
   ],
   "source": [
    "import time\n",
    "import cv2\n",
    "import numpy as np\n",
    "\n",
    "\n",
    "class Stitcher:\n",
    "    # 拼接函数\n",
    "    def stitch(self, images, ratio=0.75, reprojThresh=4.0, showMatches=False):\n",
    "        # 获取输入图片\n",
    "        (imageB, imageA) = images\n",
    "        # 检测A、B图片的SIFT关键特征点，并计算特征描述子\n",
    "        (kpsA, featuresA) = self.detectAndDescribe(imageA)\n",
    "        (kpsB, featuresB) = self.detectAndDescribe(imageB)\n",
    "\n",
    "        # 匹配两张图片的所有特征点，返回匹配结果\n",
    "        M = self.matchKeypoints(kpsA, kpsB, featuresA, featuresB, ratio, reprojThresh)\n",
    "\n",
    "        # 如果返回结果为空，没有匹配成功的特征点，退出算法\n",
    "        if M is None:\n",
    "            return None\n",
    "\n",
    "        # 否则，提取匹配结果\n",
    "        # H是3x3视角变换矩阵\n",
    "        (matches, H, status) = M\n",
    "        # 将图片A进行视角变换，result是变换后图片\n",
    "        result = cv2.warpPerspective(imageA, H, (imageA.shape[1] + imageB.shape[1], imageA.shape[0]))\n",
    "\n",
    "        # 融合\n",
    "        for r in range(result.shape[0]):\n",
    "            left = 0\n",
    "            for c in range(result.shape[1] // 2):\n",
    "                if result[r, c].any():  # overlap\n",
    "                    if left == 0:\n",
    "                        left = c\n",
    "                    alpha = (c - left) / (result.shape[1] // 2 - left)\n",
    "                    result[r, c] = imageB[r, c] * (1 - alpha) + result[r, c] * alpha\n",
    "                else:\n",
    "                    result[r, c] = imageB[r, c]\n",
    "\n",
    "        # 将图片B传入result图片最左端\n",
    "        #         result[0:imageB.shape[0], 0:imageB.shape[1]] = imageB\n",
    "\n",
    "        # 检测是否需要显示图片匹配\n",
    "        if showMatches:\n",
    "            # 生成匹配图片\n",
    "            vis = self.drawMatches(imageA, imageB, kpsA, kpsB, matches, status)\n",
    "            # 返回结果\n",
    "            return (result, vis)\n",
    "\n",
    "        # 返回匹配结果\n",
    "        return result\n",
    "\n",
    "    def detectAndDescribe(self, image):\n",
    "        # 将彩色图片转换成灰度图\n",
    "        gray = cv2.cvtColor(image, cv2.COLOR_BGR2GRAY)\n",
    "\n",
    "        # 建立SIFT生成器\n",
    "        descriptor = cv2.SIFT_create()\n",
    "        # 检测SIFT特征点，并计算描述子\n",
    "        (kps, features) = descriptor.detectAndCompute(gray, None)\n",
    "\n",
    "        # 将结果转换成NumPy数组\n",
    "        kps = np.float32([kp.pt for kp in kps])\n",
    "\n",
    "        # 返回特征点集，及对应的描述特征\n",
    "        return kps, features\n",
    "\n",
    "    def matchKeypoints(self, kpsA, kpsB, featuresA, featuresB, ratio, reprojThresh):\n",
    "        # 建立暴力匹配器\n",
    "        matcher = cv2.DescriptorMatcher_create(\"BruteForce\")\n",
    "\n",
    "        # 使用KNN检测来自A、B图的SIFT特征匹配对，K=2\n",
    "        rawMatches = matcher.knnMatch(featuresA, featuresB, 2)\n",
    "\n",
    "        matches = []\n",
    "        for m in rawMatches:\n",
    "            # 当最近距离跟次近距离的比值小于ratio值时，保留此匹配对\n",
    "            if len(m) == 2 and m[0].distance < m[1].distance * ratio:\n",
    "                # 存储两个点在featuresA, featuresB中的索引值\n",
    "                matches.append((m[0].trainIdx, m[0].queryIdx))\n",
    "\n",
    "        # 当筛选后的匹配对大于4时，计算视角变换矩阵\n",
    "        if len(matches) > 4:\n",
    "            # 获取匹配对的点坐标\n",
    "            ptsA = np.float32([kpsA[i] for (_, i) in matches])\n",
    "            ptsB = np.float32([kpsB[i] for (i, _) in matches])\n",
    "\n",
    "            # 计算视角变换矩阵\n",
    "            (H, status) = cv2.findHomography(ptsA, ptsB, cv2.RANSAC, reprojThresh)\n",
    "\n",
    "            # 返回结果\n",
    "            return (matches, H, status)\n",
    "\n",
    "        # 如果匹配对小于4时，返回None\n",
    "        return None\n",
    "\n",
    "    def drawMatches(self, imageA, imageB, kpsA, kpsB, matches, status):\n",
    "        # 初始化可视化图片，将A、B图左右连接到一起\n",
    "        (hA, wA) = imageA.shape[:2]\n",
    "        (hB, wB) = imageB.shape[:2]\n",
    "        vis = np.zeros((max(hA, hB), wA + wB, 3), dtype=\"uint8\")\n",
    "        vis[0:hA, 0:wA] = imageA\n",
    "        vis[0:hB, wA:] = imageB\n",
    "\n",
    "        # 联合遍历，画出匹配对\n",
    "        for ((trainIdx, queryIdx), s) in zip(matches, status):\n",
    "            # 当点对匹配成功时，画到可视化图上\n",
    "            if s == 1:\n",
    "                # 画出匹配对\n",
    "                ptA = (int(kpsA[queryIdx][0]), int(kpsA[queryIdx][1]))\n",
    "                ptB = (int(kpsB[trainIdx][0]) + wA, int(kpsB[trainIdx][1]))\n",
    "                cv2.line(vis, ptA, ptB, (0, 255, 0), 1)\n",
    "\n",
    "        # 返回可视化结果\n",
    "        return vis\n",
    "\n",
    "\n",
    "if __name__ == '__main__':\n",
    "    start_time = time.time()\n",
    "    # 读取拼接图片\n",
    "    imageA = cv2.imread(\"2.jpg\")\n",
    "    imageB = cv2.imread(\"1.jpg\")\n",
    "\n",
    "    # 把图片拼接成全景图\n",
    "    stitcher = Stitcher()\n",
    "    (result, vis) = stitcher.stitch([imageA, imageB], showMatches=True)\n",
    "    cv2.imwrite(\"img1.png\", vis)\n",
    "    cv2.imwrite(\"img2.png\", result)\n",
    "    end_time = time.time()\n",
    "    print(\"共耗时\" + str(end_time - start_time))"
   ]
  },
  {
   "cell_type": "code",
   "execution_count": null,
   "id": "c0004133",
   "metadata": {},
   "outputs": [],
   "source": []
  }
 ],
 "metadata": {
  "kernelspec": {
   "display_name": "Python [conda env:img2] *",
   "language": "python",
   "name": "conda-env-img2-py"
  },
  "language_info": {
   "codemirror_mode": {
    "name": "ipython",
    "version": 3
   },
   "file_extension": ".py",
   "mimetype": "text/x-python",
   "name": "python",
   "nbconvert_exporter": "python",
   "pygments_lexer": "ipython3",
   "version": "3.8.19"
  }
 },
 "nbformat": 4,
 "nbformat_minor": 5
}
